{
 "cells": [
  {
   "cell_type": "code",
   "execution_count": 2,
   "metadata": {},
   "outputs": [],
   "source": [
    "import numpy as np\n",
    "import matplotlib.pyplot as plt"
   ]
  },
  {
   "cell_type": "code",
   "execution_count": 11,
   "metadata": {},
   "outputs": [],
   "source": [
    "class Bandit:\n",
    "    def __init__(self, mu, mu_upper_limit):\n",
    "        # True average of current bandit\n",
    "        self.mu = mu\n",
    "        # The upper limit of mean we can think for current bandit.\n",
    "        # This is part of the Optimistic-Initial-Values algorithm.\n",
    "        self.mean = mu_upper_limit\n",
    "        self.N = 1\n",
    "    def pull(self):\n",
    "        return np.random.randn() + self.mu\n",
    "    \n",
    "    def update(self, x):\n",
    "        # Update the mean using the new datapoint\n",
    "        self.N += 1\n",
    "        aN = 1.0/self.N\n",
    "        self.mean = (1.0 - aN)*self.mean + aN* x\n",
    "        \n",
    "    def get_mean(self):\n",
    "        return self.mean"
   ]
  },
  {
   "cell_type": "code",
   "execution_count": 12,
   "metadata": {},
   "outputs": [],
   "source": [
    "def run_MultiBandit_Arm_Optimistic_Values(m1=0.2,m2=0.4,m_upper_limit=10,N_iter=10000):\n",
    "    def _cumulative_average(data):\n",
    "        return np.cumsum(data) / (np.arange(len(data))+1)\n",
    "    # Create a 2-arm bandit array.\n",
    "    bandits = [Bandit(mu=m1, mu_upper_limit=m_upper_limit), Bandit(mu=m2, mu_upper_limit=m_upper_limit)]\n",
    "    # To store x\n",
    "    data = np.empty(N_iter)\n",
    "    # Run N_iter experiments, using optimistic initial value\n",
    "    for i in range(N_iter):\n",
    "        # pick which bandit has the highest mean so far\n",
    "        which_bandit = np.argmax([b.get_mean() for b in bandits])\n",
    "        x = bandits[which_bandit].pull()\n",
    "        bandits[which_bandit].update(x)\n",
    "        # store x\n",
    "        data[i] = x\n",
    "    return _cumulative_average(data)"
   ]
  },
  {
   "cell_type": "code",
   "execution_count": 17,
   "metadata": {},
   "outputs": [
    {
     "data": {
      "image/png": "[encoded data removed]",
      "text/plain": [
       "<Figure size 432x288 with 1 Axes>"
      ]
     },
     "metadata": {},
     "output_type": "display_data"
    }
   ],
   "source": [
    "m1 = 0.5\n",
    "m2 = 0.2\n",
    "m_upper_limit=5\n",
    "accum_avg = run_MultiBandit_Arm_Optimistic_Values(m1=m1, m2=m2, m_upper_limit=m_upper_limit, N_iter=10000)\n",
    "plt.plot(accum_avg, label='Cumulative Average')\n",
    "plt.plot(np.ones(len(accum_avg))*m1, label='Arm 1')\n",
    "plt.plot(np.ones(len(accum_avg))*m2, label='Arm 2')\n",
    "plt.legend()\n",
    "plt.ylim([0,1])\n",
    "plt.show()"
   ]
  },
  {
   "cell_type": "code",
   "execution_count": null,
   "metadata": {},
   "outputs": [],
   "source": []
  }
 ],
 "metadata": {
  "kernelspec": {
   "display_name": "Python 3",
   "language": "python",
   "name": "python3"
  },
  "language_info": {
   "codemirror_mode": {
    "name": "ipython",
    "version": 3
   },
   "file_extension": ".py",
   "mimetype": "text/x-python",
   "name": "python",
   "nbconvert_exporter": "python",
   "pygments_lexer": "ipython3",
   "version": "3.6.4"
  }
 },
 "nbformat": 4,
 "nbformat_minor": 2
}
