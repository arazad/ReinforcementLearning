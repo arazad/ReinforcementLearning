{
 "cells": [
  {
   "cell_type": "code",
   "execution_count": 5,
   "metadata": {},
   "outputs": [],
   "source": [
    "import numpy as np\n",
    "import matplotlib.pyplot as plt"
   ]
  },
  {
   "cell_type": "code",
   "execution_count": 6,
   "metadata": {},
   "outputs": [],
   "source": [
    "class Bandit:\n",
    "    def __init__(self, mu):\n",
    "        # True average of current bandit\n",
    "        self.mu = mu\n",
    "        # Sampling mean\n",
    "        self.mean = 0\n",
    "        self.N = 0\n",
    "    def pull(self):\n",
    "        return np.random.randn() + self.mu\n",
    "    \n",
    "    def update(self, x):\n",
    "        # Update the mean using the new datapoint\n",
    "        self.N += 1\n",
    "        aN = 1.0/self.N\n",
    "        self.mean = (1.0 - aN)*self.mean + aN* x\n",
    "        \n",
    "    def get_mean(self):\n",
    "        return self.mean"
   ]
  },
  {
   "cell_type": "code",
   "execution_count": 7,
   "metadata": {},
   "outputs": [],
   "source": [
    "def run_MultiBandit_Arm_UCB1(m1=0.2,m2=0.4,N_iter=10000):\n",
    "    def _cumulative_average(data):\n",
    "        return np.cumsum(data) / (np.arange(len(data))+1)\n",
    "    \n",
    "    def _UCB1(mean, n_total, n_arm):\n",
    "        # n_arm: number of times arm is used\n",
    "        # n_total: Total number of experiment runs\n",
    "        # sampling mean\n",
    "        # To avoid division by zero, add to n_arm\n",
    "        pert = 1e-16\n",
    "        return mean + np.sqrt(2.0*np.log(n_total)/(n_arm + pert))\n",
    "    \n",
    "    bandits = [Bandit(m1), Bandit(m2)]\n",
    "    data = np.empty(N_iter)\n",
    "    for i in range(N_iter):\n",
    "        which_bandit = np.argmax([_UCB1(b.get_mean(), i+1, b.N) for b in bandits])\n",
    "        x = bandits[which_bandit].pull()\n",
    "        data[i] = x\n",
    "    return _cumulative_average(data)"
   ]
  },
  {
   "cell_type": "code",
   "execution_count": 8,
   "metadata": {},
   "outputs": [
    {
     "data": {
      "image/png": "[encoded data removed]",
      "text/plain": [
       "<Figure size 432x288 with 1 Axes>"
      ]
     },
     "metadata": {},
     "output_type": "display_data"
    }
   ],
   "source": [
    "m1 = 0.5\n",
    "m2 = 0.2\n",
    "m_upper_limit=5\n",
    "accum_avg = run_MultiBandit_Arm_UCB1(m1=m1, m2=m2, N_iter=10000)\n",
    "plt.plot(accum_avg, label='Cumulative Average')\n",
    "plt.plot(np.ones(len(accum_avg))*m1, label='Arm 1')\n",
    "plt.plot(np.ones(len(accum_avg))*m2, label='Arm 2')\n",
    "plt.legend()\n",
    "plt.ylim([0,1])\n",
    "plt.show()"
   ]
  },
  {
   "cell_type": "code",
   "execution_count": null,
   "metadata": {},
   "outputs": [],
   "source": []
  }
 ],
 "metadata": {
  "kernelspec": {
   "display_name": "Python 3",
   "language": "python",
   "name": "python3"
  },
  "language_info": {
   "codemirror_mode": {
    "name": "ipython",
    "version": 3
   },
   "file_extension": ".py",
   "mimetype": "text/x-python",
   "name": "python",
   "nbconvert_exporter": "python",
   "pygments_lexer": "ipython3",
   "version": "3.6.4"
  }
 },
 "nbformat": 4,
 "nbformat_minor": 2
}
